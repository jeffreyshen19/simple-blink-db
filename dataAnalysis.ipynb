{
 "cells": [
  {
   "cell_type": "code",
   "execution_count": 1,
   "metadata": {},
   "outputs": [],
   "source": [
    "import pandas as pd \n",
    "\n",
    "df = pd.read_csv(\"test_dataset_50M.txt\", header=None, sep=',')"
   ]
  },
  {
   "cell_type": "code",
   "execution_count": 4,
   "metadata": {},
   "outputs": [
    {
     "name": "stdout",
     "output_type": "stream",
     "text": [
      "   0   1     2\n",
      "0  0  13  2014\n",
      "1  1  53  2011\n",
      "2  2  18  2011\n",
      "3  3   9  2010\n",
      "4  4  45  2010\n"
     ]
    }
   ],
   "source": [
    "print(df.head())"
   ]
  },
  {
   "cell_type": "code",
   "execution_count": 7,
   "metadata": {},
   "outputs": [
    {
     "name": "stdout",
     "output_type": "stream",
     "text": [
      "50000000\n",
      "50.49345662\n",
      "2524672831\n"
     ]
    }
   ],
   "source": [
    "# SELECT COUNT/AVG/SUM(quantity) FROM table\n",
    "\n",
    "print(df[1].count())\n",
    "print(df[1].mean())\n",
    "print(df[1].sum())"
   ]
  },
  {
   "cell_type": "code",
   "execution_count": 11,
   "metadata": {},
   "outputs": [
    {
     "name": "stdout",
     "output_type": "stream",
     "text": [
      "24507495\n",
      "25.001444700896602\n",
      "612722781\n"
     ]
    }
   ],
   "source": [
    "# Filtering across uniform column\n",
    "# SELECT COUNT/AVG/SUM(quantity) FROM table WHERE quantity < 50;\n",
    "\n",
    "print(df.loc[df[1] < 50][1].count())\n",
    "print(df.loc[df[1] < 50][1].mean())\n",
    "print(df.loc[df[1] < 50][1].sum())"
   ]
  },
  {
   "cell_type": "code",
   "execution_count": 12,
   "metadata": {},
   "outputs": [
    {
     "name": "stdout",
     "output_type": "stream",
     "text": [
      "12496164\n",
      "50.49830964126271\n",
      "631035159\n"
     ]
    }
   ],
   "source": [
    "# Filtering across skewed column\n",
    "# SELECT COUNT/AVG/SUM(quantity) FROM table WHERE year = 2010;\n",
    "\n",
    "print(df.loc[df[2] == 2010][1].count())\n",
    "print(df.loc[df[2] == 2010][1].mean())\n",
    "print(df.loc[df[2] == 2010][1].sum())"
   ]
  },
  {
   "cell_type": "code",
   "execution_count": 14,
   "metadata": {},
   "outputs": [
    {
     "name": "stdout",
     "output_type": "stream",
     "text": [
      "22507344\n",
      "55.487636968626774\n",
      "1248879333\n"
     ]
    }
   ],
   "source": [
    "# // Filtering across both skewed and uniform columns\n",
    "# SELECT COUNT/AVG/SUM(quantity) FROM table WHERE year >= 2013\n",
    "# AND QUANTITY > 10;\n",
    "row = df.loc[df[1] > 10]\n",
    "print(row.loc[df[2] >= 2013][1].count())\n",
    "print(row.loc[df[2] >= 2013][1].mean())\n",
    "print(row.loc[df[2] >= 2013][1].sum())"
   ]
  },
  {
   "cell_type": "code",
   "execution_count": 18,
   "metadata": {},
   "outputs": [
    {
     "name": "stdout",
     "output_type": "stream",
     "text": [
      "2\n",
      "2010    12496164\n",
      "2011     9995399\n",
      "2012     2501228\n",
      "2013     4995437\n",
      "2014    15010414\n",
      "2015     5001358\n",
      "Name: 1, dtype: int64\n",
      "2\n",
      "2010    50.498310\n",
      "2011    50.492760\n",
      "2012    50.499866\n",
      "2013    50.512414\n",
      "2014    50.490838\n",
      "2015    50.468442\n",
      "Name: 1, dtype: float64\n",
      "2\n",
      "2010    631035159\n",
      "2011    504695286\n",
      "2012    126311679\n",
      "2013    252331580\n",
      "2014    757888380\n",
      "2015    252410747\n",
      "Name: 1, dtype: int64\n"
     ]
    }
   ],
   "source": [
    "# SELECT COUNT/AVG/SUM(quantity) FROM table GROUP BY year;\n",
    "row = df.groupby(2)\n",
    "print(row[1].count())\n",
    "print(row[1].mean())\n",
    "print(row[1].sum())"
   ]
  },
  {
   "cell_type": "code",
   "execution_count": 24,
   "metadata": {},
   "outputs": [
    {
     "name": "stdout",
     "output_type": "stream",
     "text": [
      "2\n",
      "2010     9997266\n",
      "2011     7994916\n",
      "2012     2000781\n",
      "2013     3997070\n",
      "2014    12008119\n",
      "2015     3999479\n",
      "Name: 1, dtype: int64\n",
      "2\n",
      "2010    60.495964\n",
      "2011    60.499591\n",
      "2012    60.504305\n",
      "2013    60.505202\n",
      "2014    60.488521\n",
      "2015    60.479359\n",
      "Name: 1, dtype: float64\n",
      "2\n",
      "2010    604794240\n",
      "2011    483689148\n",
      "2012    121055864\n",
      "2013    241843527\n",
      "2014    726353356\n",
      "2015    241885927\n",
      "Name: 1, dtype: int64\n"
     ]
    }
   ],
   "source": [
    "# SELECT COUNT/AVG/SUM FROM table WHERE quantity < 20 GROUP BY year;\n",
    "\n",
    "row = df[df[1] < 20]\n",
    "row = row.groupby(2)\n",
    "print(row[1].count())\n",
    "print(row[1].mean())\n",
    "print(row[1].sum())"
   ]
  }
 ],
 "metadata": {
  "kernelspec": {
   "display_name": "Python 3",
   "language": "python",
   "name": "python3"
  },
  "language_info": {
   "codemirror_mode": {
    "name": "ipython",
    "version": 3
   },
   "file_extension": ".py",
   "mimetype": "text/x-python",
   "name": "python",
   "nbconvert_exporter": "python",
   "pygments_lexer": "ipython3",
   "version": "3.9.1 (tags/v3.9.1:1e5d33e, Dec  7 2020, 17:08:21) [MSC v.1927 64 bit (AMD64)]"
  },
  "orig_nbformat": 4,
  "vscode": {
   "interpreter": {
    "hash": "81794d4967e6c3204c66dcd87b604927b115b27c00565d3d43f05ba2f3a2cb0d"
   }
  }
 },
 "nbformat": 4,
 "nbformat_minor": 2
}
